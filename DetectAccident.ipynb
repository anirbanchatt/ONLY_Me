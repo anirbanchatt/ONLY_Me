{
 "cells": [
  {
   "cell_type": "code",
   "execution_count": 1,
   "id": "1b18201d",
   "metadata": {},
   "outputs": [],
   "source": [
    "import numpy as np\n",
    "import pandas as pd \n",
    "import matplotlib.pyplot as plt\n",
    "from time import perf_counter \n",
    "import os"
   ]
  },
  {
   "cell_type": "code",
   "execution_count": 2,
   "id": "c33b0622",
   "metadata": {},
   "outputs": [],
   "source": [
    "import tensorflow as tf"
   ]
  },
  {
   "cell_type": "code",
   "execution_count": 3,
   "id": "6f995637",
   "metadata": {},
   "outputs": [],
   "source": [
    "import cv2\n",
    "from keras.models import load_model \n",
    "from keras.preprocessing import image\n",
    "from PIL import Image"
   ]
  },
  {
   "cell_type": "code",
   "execution_count": 4,
   "id": "0473234a",
   "metadata": {},
   "outputs": [],
   "source": [
    "MyCnn = load_model(r'E:\\ml\\Model.h5')"
   ]
  },
  {
   "cell_type": "code",
   "execution_count": 5,
   "id": "2b35d296",
   "metadata": {},
   "outputs": [],
   "source": [
    "IMG_HEIGHT = 250\n",
    "IMG_WIDTH = 250"
   ]
  },
  {
   "cell_type": "code",
   "execution_count": 6,
   "id": "7fe9162d",
   "metadata": {},
   "outputs": [],
   "source": [
    "def detect_accident():\n",
    "    cap = cv2.VideoCapture('RoadAccidents005_x264.mp4')\n",
    "    frame_count = 0\n",
    "\n",
    "    while cap.isOpened():\n",
    "        ret, frame = cap.read()\n",
    "\n",
    "        if type(frame) is np.ndarray:\n",
    "            frame = cv2.resize(frame, (IMG_HEIGHT,IMG_WIDTH))\n",
    "            im = Image.fromarray(frame, 'RGB')\n",
    "\n",
    "            img_array = np.array(im)\n",
    "            img_array = np.expand_dims(img_array, axis=0)\n",
    "            pred = MyCnn.predict(img_array)\n",
    "            #print(pred)\n",
    "            if pred[0][1] > 0.8:\n",
    "                print(frame_count,' -> ', pred)\n",
    "                cv2.putText(frame, \"Accident\", (50,50), cv2.FONT_HERSHEY_COMPLEX, 1, (0,255,0), 2)\n",
    "    #             cv2.waitKey()\n",
    "            else:\n",
    "                cv2.putText(frame, \"No Accident\", (50,50), cv2.FONT_HERSHEY_COMPLEX, 1, (255,0,0), 2)\n",
    "\n",
    "        if ret == False:\n",
    "            break\n",
    "\n",
    "        frame_count += 1\n",
    "\n",
    "        cv2.imshow('Video',frame)\n",
    "        if cv2.waitKey(1) == 13: # 13 is enter\n",
    "            break\n",
    "\n",
    "    cap.release()\n",
    "    cv2.destroyAllWindows()"
   ]
  },
  {
   "cell_type": "code",
   "execution_count": 7,
   "id": "e9495ab4",
   "metadata": {},
   "outputs": [
    {
     "name": "stdout",
     "output_type": "stream",
     "text": [
      "WARNING:tensorflow:AutoGraph could not transform <function Model.make_predict_function.<locals>.predict_function at 0x00000244A76E5268> and will run it as-is.\n",
      "Please report this to the TensorFlow team. When filing the bug, set the verbosity to 10 (on Linux, `export AUTOGRAPH_VERBOSITY=10`) and attach the full output.\n",
      "Cause: 'arguments' object has no attribute 'posonlyargs'\n",
      "To silence this warning, decorate the function with @tf.autograph.experimental.do_not_convert\n",
      "WARNING: AutoGraph could not transform <function Model.make_predict_function.<locals>.predict_function at 0x00000244A76E5268> and will run it as-is.\n",
      "Please report this to the TensorFlow team. When filing the bug, set the verbosity to 10 (on Linux, `export AUTOGRAPH_VERBOSITY=10`) and attach the full output.\n",
      "Cause: 'arguments' object has no attribute 'posonlyargs'\n",
      "To silence this warning, decorate the function with @tf.autograph.experimental.do_not_convert\n",
      "73  ->  [[0.17389163 0.82610834]]\n",
      "74  ->  [[0.17393605 0.82606393]]\n",
      "75  ->  [[0.01556769 0.98443234]]\n",
      "76  ->  [[0.01544519 0.9845548 ]]\n",
      "77  ->  [[0.01147638 0.98852354]]\n",
      "78  ->  [[0.0113902 0.9886098]]\n",
      "79  ->  [[0.00193103 0.998069  ]]\n",
      "80  ->  [[0.00141071 0.9985892 ]]\n",
      "81  ->  [[0.00144684 0.9985531 ]]\n",
      "82  ->  [[0.0014367  0.99856335]]\n",
      "83  ->  [[0.00108376 0.99891627]]\n",
      "84  ->  [[3.1536445e-04 9.9968469e-01]]\n",
      "85  ->  [[3.1068339e-04 9.9968934e-01]]\n",
      "86  ->  [[0.02721827 0.9727817 ]]\n"
     ]
    }
   ],
   "source": [
    "detect_accident()"
   ]
  },
  {
   "cell_type": "markdown",
   "id": "9ac49842",
   "metadata": {},
   "source": [
    "## Using vgg model for accident detection (trained with vgg16 architecture)"
   ]
  },
  {
   "cell_type": "code",
   "execution_count": 8,
   "id": "953c3e36",
   "metadata": {},
   "outputs": [],
   "source": [
    "IMG_HEIGHT = 224\n",
    "IMG_WIDTH = 224"
   ]
  },
  {
   "cell_type": "code",
   "execution_count": 5,
   "id": "5456cfba",
   "metadata": {},
   "outputs": [],
   "source": [
    "MyCnn = load_model(r'E:\\ml\\model_vgg16_1.h5')"
   ]
  },
  {
   "cell_type": "code",
   "execution_count": 6,
   "id": "bb047921",
   "metadata": {},
   "outputs": [],
   "source": [
    "def detect_accident_vgg():\n",
    "    cap = cv2.VideoCapture('RoadAccidents005_x264.mp4')\n",
    "    frame_count = 0\n",
    "\n",
    "    while cap.isOpened():\n",
    "        ret, frame = cap.read()\n",
    "\n",
    "        if type(frame) is np.ndarray:\n",
    "            frame = cv2.resize(frame, (IMG_HEIGHT,IMG_WIDTH))\n",
    "            im = Image.fromarray(frame, 'RGB')\n",
    "\n",
    "            img_array = np.array(im)\n",
    "            img_array = np.expand_dims(img_array, axis=0)\n",
    "            pred = MyCnn.predict(img_array)\n",
    "            #print(pred)\n",
    "            if pred[0][1] < 0.8:\n",
    "                print(frame_count,' -> ', pred)\n",
    "                cv2.putText(frame, \"Accident\", (50,50), cv2.FONT_HERSHEY_COMPLEX, 1, (0,255,0), 2)\n",
    "    #             cv2.waitKey()\n",
    "            else:\n",
    "                cv2.putText(frame, \"No Accident\", (50,50), cv2.FONT_HERSHEY_COMPLEX, 1, (255,0,0), 2)\n",
    "\n",
    "        if ret == False:\n",
    "            break\n",
    "\n",
    "        frame_count += 1\n",
    "\n",
    "        cv2.imshow('Video',frame)\n",
    "        if cv2.waitKey(1) == 13: # 13 is enter\n",
    "            break\n",
    "\n",
    "    cap.release()\n",
    "    cv2.destroyAllWindows()"
   ]
  },
  {
   "cell_type": "code",
   "execution_count": 9,
   "id": "c5570e27",
   "metadata": {},
   "outputs": [],
   "source": [
    "detect_accident_vgg()"
   ]
  },
  {
   "cell_type": "code",
   "execution_count": null,
   "id": "52c11e15",
   "metadata": {},
   "outputs": [],
   "source": []
  }
 ],
 "metadata": {
  "kernelspec": {
   "display_name": "Python 3 (ipykernel)",
   "language": "python",
   "name": "python3"
  },
  "language_info": {
   "codemirror_mode": {
    "name": "ipython",
    "version": 3
   },
   "file_extension": ".py",
   "mimetype": "text/x-python",
   "name": "python",
   "nbconvert_exporter": "python",
   "pygments_lexer": "ipython3",
   "version": "3.7.3"
  }
 },
 "nbformat": 4,
 "nbformat_minor": 5
}
