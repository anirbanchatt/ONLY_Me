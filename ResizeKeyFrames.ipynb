{
 "cells": [
  {
   "cell_type": "markdown",
   "id": "7ae7f459",
   "metadata": {},
   "source": [
    "## Resize key frames for training model"
   ]
  },
  {
   "cell_type": "code",
   "execution_count": 13,
   "id": "2bcba4a7",
   "metadata": {},
   "outputs": [],
   "source": [
    "import cv2\n",
    "import os\n",
    "from PIL import Image"
   ]
  },
  {
   "cell_type": "code",
   "execution_count": 2,
   "id": "472309db",
   "metadata": {},
   "outputs": [],
   "source": [
    "IMG_HEIGHT = 224\n",
    "IMG_WIDTH = 224"
   ]
  },
  {
   "cell_type": "code",
   "execution_count": 21,
   "id": "63940631",
   "metadata": {},
   "outputs": [],
   "source": [
    "def resize_copy_key_frames(data_folder, target_folder):\n",
    "    frames = os.listdir(data_folder)\n",
    "    print(len(frames), 'frames to be resized and copied')\n",
    "    c = 0\n",
    "    \n",
    "    for f in frames:\n",
    "        frame = Image.open(data_folder + f)\n",
    "        frame = frame.resize((IMG_WIDTH, IMG_HEIGHT))\n",
    "        frame.save(target_folder + f)\n",
    "        c += 1\n",
    "        \n",
    "        if c % 100 == 0:\n",
    "            print('copied', c, 'frames')"
   ]
  },
  {
   "cell_type": "code",
   "execution_count": 4,
   "id": "7e4f479c",
   "metadata": {},
   "outputs": [],
   "source": [
    "frame_path = 'dataset/keyFrames'\n",
    "destination_path = 'dataset/finalKeyFrames'"
   ]
  },
  {
   "cell_type": "code",
   "execution_count": 22,
   "id": "5d1f97b0",
   "metadata": {},
   "outputs": [
    {
     "name": "stdout",
     "output_type": "stream",
     "text": [
      "5134 frames to be resized and copied\n",
      "copied 100 frames\n",
      "copied 200 frames\n",
      "copied 300 frames\n",
      "copied 400 frames\n",
      "copied 500 frames\n",
      "copied 600 frames\n",
      "copied 700 frames\n",
      "copied 800 frames\n",
      "copied 900 frames\n",
      "copied 1000 frames\n",
      "copied 1100 frames\n",
      "copied 1200 frames\n",
      "copied 1300 frames\n",
      "copied 1400 frames\n",
      "copied 1500 frames\n",
      "copied 1600 frames\n",
      "copied 1700 frames\n",
      "copied 1800 frames\n",
      "copied 1900 frames\n",
      "copied 2000 frames\n",
      "copied 2100 frames\n",
      "copied 2200 frames\n",
      "copied 2300 frames\n",
      "copied 2400 frames\n",
      "copied 2500 frames\n",
      "copied 2600 frames\n",
      "copied 2700 frames\n",
      "copied 2800 frames\n",
      "copied 2900 frames\n",
      "copied 3000 frames\n",
      "copied 3100 frames\n",
      "copied 3200 frames\n",
      "copied 3300 frames\n",
      "copied 3400 frames\n",
      "copied 3500 frames\n",
      "copied 3600 frames\n",
      "copied 3700 frames\n",
      "copied 3800 frames\n",
      "copied 3900 frames\n",
      "copied 4000 frames\n",
      "copied 4100 frames\n",
      "copied 4200 frames\n",
      "copied 4300 frames\n",
      "copied 4400 frames\n",
      "copied 4500 frames\n",
      "copied 4600 frames\n",
      "copied 4700 frames\n",
      "copied 4800 frames\n",
      "copied 4900 frames\n",
      "copied 5000 frames\n",
      "copied 5100 frames\n",
      "finished accident frames!\n",
      "2583 frames to be resized and copied\n",
      "copied 100 frames\n",
      "copied 200 frames\n",
      "copied 300 frames\n",
      "copied 400 frames\n",
      "copied 500 frames\n",
      "copied 600 frames\n",
      "copied 700 frames\n",
      "copied 800 frames\n",
      "copied 900 frames\n",
      "copied 1000 frames\n",
      "copied 1100 frames\n",
      "copied 1200 frames\n",
      "copied 1300 frames\n",
      "copied 1400 frames\n",
      "copied 1500 frames\n",
      "copied 1600 frames\n",
      "copied 1700 frames\n",
      "copied 1800 frames\n",
      "copied 1900 frames\n",
      "copied 2000 frames\n",
      "copied 2100 frames\n",
      "copied 2200 frames\n",
      "copied 2300 frames\n",
      "copied 2400 frames\n",
      "copied 2500 frames\n",
      "finished non accident frames!\n"
     ]
    }
   ],
   "source": [
    "resize_copy_key_frames(frame_path+'/accident/', destination_path+'/accident/')\n",
    "print('finished accident frames!')\n",
    "\n",
    "resize_copy_key_frames(frame_path+'/non accident/', destination_path+'/non accident/')\n",
    "print('finished non accident frames!')"
   ]
  },
  {
   "cell_type": "code",
   "execution_count": null,
   "id": "5948d11d",
   "metadata": {},
   "outputs": [],
   "source": []
  }
 ],
 "metadata": {
  "kernelspec": {
   "display_name": "Python 3 (ipykernel)",
   "language": "python",
   "name": "python3"
  },
  "language_info": {
   "codemirror_mode": {
    "name": "ipython",
    "version": 3
   },
   "file_extension": ".py",
   "mimetype": "text/x-python",
   "name": "python",
   "nbconvert_exporter": "python",
   "pygments_lexer": "ipython3",
   "version": "3.7.3"
  }
 },
 "nbformat": 4,
 "nbformat_minor": 5
}
