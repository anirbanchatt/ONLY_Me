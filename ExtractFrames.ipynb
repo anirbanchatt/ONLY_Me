{
 "cells": [
  {
   "cell_type": "markdown",
   "id": "db36dc9d",
   "metadata": {},
   "source": [
    "## Extract frames from videos and save it in desired format for yolo input"
   ]
  },
  {
   "cell_type": "code",
   "execution_count": 1,
   "id": "77e964f6",
   "metadata": {},
   "outputs": [],
   "source": [
    "import cv2\n",
    "import os\n",
    "import PIL"
   ]
  },
  {
   "cell_type": "code",
   "execution_count": 2,
   "id": "9b3e1d2b",
   "metadata": {},
   "outputs": [],
   "source": [
    "IMG_HEIGHT = 720\n",
    "IMG_WIDTH = 1280"
   ]
  },
  {
   "cell_type": "code",
   "execution_count": 3,
   "id": "b2554cf0",
   "metadata": {},
   "outputs": [],
   "source": [
    "def extract_frames (target_folder, video_path, video_num):\n",
    "    cap = cv2.VideoCapture(video_path)\n",
    "    \n",
    "    frame_count = 1\n",
    "    while cap.isOpened():\n",
    "        ret, frame = cap.read()\n",
    "        \n",
    "        if ret == False:\n",
    "            break\n",
    "        frame = cv2.resize(frame, (IMG_WIDTH, IMG_HEIGHT))\n",
    "        \n",
    "        cv2.imwrite(target_folder + \"vid\" + str(video_num) + \"-shot\" + str(frame_count) + \".jpg\", frame)\n",
    "        frame_count += 1\n",
    "        \n",
    "        # cv2.imshow('Video', frame)\n",
    "        if cv2.waitKey(1) == 13: # 13 is enter\n",
    "            break\n",
    "\n",
    "    cap.release()\n",
    "    cv2.destroyAllWindows()"
   ]
  },
  {
   "cell_type": "code",
   "execution_count": 4,
   "id": "8a940539",
   "metadata": {},
   "outputs": [
    {
     "name": "stdout",
     "output_type": "stream",
     "text": [
      "['RoadAccidents001_x264.mp4', 'RoadAccidents002_x264.mp4', 'RoadAccidents003_x264.mp4', 'RoadAccidents004_x264.mp4', 'RoadAccidents005_x264.mp4', 'RoadAccidents006_x264.mp4', 'RoadAccidents007_x264.mp4', 'RoadAccidents008_x264.mp4', 'RoadAccidents009_x264.mp4', 'RoadAccidents010_x264.mp4', 'RoadAccidents011_x264.mp4', 'RoadAccidents012_x264.mp4', 'RoadAccidents013_x264.mp4', 'RoadAccidents014_x264.mp4', 'RoadAccidents015_x264.mp4', 'RoadAccidents016_x264.mp4', 'RoadAccidents017_x264.mp4', 'RoadAccidents018_x264.mp4', 'RoadAccidents019_x264.mp4', 'RoadAccidents020_x264.mp4', 'RoadAccidents021_x264.mp4', 'RoadAccidents022_x264.mp4', 'RoadAccidents023_x264.mp4', 'RoadAccidents024_x264.mp4', 'RoadAccidents025_x264.mp4', 'RoadAccidents026_x264.mp4', 'RoadAccidents027_x264.mp4', 'RoadAccidents028_x264.mp4', 'RoadAccidents029_x264.mp4', 'RoadAccidents030_x264.mp4', 'RoadAccidents031_x264.mp4', 'RoadAccidents032_x264.mp4', 'RoadAccidents033_x264.mp4', 'RoadAccidents034_x264.mp4', 'RoadAccidents035_x264.mp4', 'RoadAccidents036_x264.mp4', 'RoadAccidents037_x264.mp4', 'RoadAccidents038_x264.mp4', 'RoadAccidents039_x264.mp4', 'RoadAccidents040_x264.mp4', 'RoadAccidents041_x264.mp4', 'RoadAccidents042_x264.mp4', 'RoadAccidents043_x264.mp4', 'RoadAccidents044_x264.mp4', 'RoadAccidents046_x264.mp4', 'RoadAccidents047_x264.mp4', 'RoadAccidents048_x264.mp4', 'RoadAccidents049_x264.mp4', 'RoadAccidents050_x264.mp4', 'RoadAccidents051_x264.mp4', 'RoadAccidents052_x264.mp4', 'RoadAccidents053_x264.mp4', 'RoadAccidents054_x264.mp4', 'RoadAccidents055_x264.mp4', 'RoadAccidents056_x264.mp4', 'RoadAccidents057_x264.mp4', 'RoadAccidents058_x264.mp4', 'RoadAccidents059_x264.mp4', 'RoadAccidents060_x264.mp4', 'RoadAccidents061_x264.mp4', 'RoadAccidents062_x264.mp4', 'RoadAccidents063_x264.mp4', 'RoadAccidents064_x264.mp4', 'RoadAccidents065_x264.mp4', 'RoadAccidents066_x264.mp4', 'RoadAccidents067_x264.mp4', 'RoadAccidents068_x264.mp4', 'RoadAccidents069_x264.mp4', 'RoadAccidents070_x264.mp4', 'RoadAccidents071_x264.mp4', 'RoadAccidents072_x264.mp4', 'RoadAccidents073_x264.mp4', 'RoadAccidents074_x264.mp4', 'RoadAccidents075_x264.mp4', 'RoadAccidents076_x264.mp4', 'RoadAccidents077_x264.mp4', 'RoadAccidents078_x264.mp4', 'RoadAccidents079_x264.mp4', 'RoadAccidents080_x264.mp4', 'RoadAccidents081_x264.mp4', 'RoadAccidents082_x264.mp4', 'RoadAccidents083_x264.mp4', 'RoadAccidents084_x264.mp4', 'RoadAccidents085_x264.mp4', 'RoadAccidents086_x264.mp4', 'RoadAccidents087_x264.mp4', 'RoadAccidents088_x264.mp4', 'RoadAccidents089_x264.mp4', 'RoadAccidents090_x264.mp4', 'RoadAccidents091_x264.mp4', 'RoadAccidents092_x264.mp4', 'RoadAccidents093_x264.mp4', 'RoadAccidents094_x264.mp4', 'RoadAccidents095_x264.mp4', 'RoadAccidents096_x264.mp4', 'RoadAccidents097_x264.mp4', 'RoadAccidents098_x264.mp4', 'RoadAccidents099_x264.mp4', 'RoadAccidents100_x264.mp4', 'RoadAccidents101_x264.mp4', 'RoadAccidents102_x264.mp4', 'RoadAccidents103_x264.mp4', 'RoadAccidents104_x264.mp4', 'RoadAccidents105_x264.mp4', 'RoadAccidents106_x264.mp4', 'RoadAccidents107_x264.mp4', 'RoadAccidents108_x264.mp4', 'RoadAccidents109_x264.mp4', 'RoadAccidents110_x264.mp4', 'RoadAccidents111_x264.mp4', 'RoadAccidents112_x264.mp4', 'RoadAccidents113_x264.mp4', 'RoadAccidents114_x264.mp4', 'RoadAccidents115_x264.mp4', 'RoadAccidents116_x264.mp4', 'RoadAccidents117_x264.mp4', 'RoadAccidents118_x264.mp4', 'RoadAccidents119_x264.mp4', 'RoadAccidents120_x264.mp4', 'RoadAccidents121_x264.mp4', 'RoadAccidents122_x264.mp4', 'RoadAccidents123_x264.mp4', 'RoadAccidents124_x264.mp4', 'RoadAccidents125_x264.mp4', 'RoadAccidents126_x264.mp4', 'RoadAccidents127_x264.mp4', 'RoadAccidents128_x264.mp4', 'RoadAccidents129_x264.mp4', 'RoadAccidents130_x264.mp4', 'RoadAccidents131_x264.mp4', 'RoadAccidents132_x264.mp4', 'RoadAccidents133_x264.mp4', 'RoadAccidents134_x264.mp4', 'RoadAccidents135_x264.mp4', 'RoadAccidents136_x264.mp4', 'RoadAccidents137_x264.mp4', 'RoadAccidents138_x264.mp4', 'RoadAccidents139_x264.mp4', 'RoadAccidents140_x264.mp4', 'RoadAccidents141_x264.mp4', 'RoadAccidents142_x264.mp4', 'RoadAccidents143_x264.mp4', 'RoadAccidents144_x264.mp4', 'RoadAccidents145_x264.mp4', 'RoadAccidents146_x264.mp4', 'RoadAccidents149_x264.mp4', 'RoadAccidents150_x264.mp4', 'RoadAccidents151_x264.mp4']\n"
     ]
    }
   ],
   "source": [
    "target_folder = 'dataset/frames/'\n",
    "data_folder = 'dataset/RoadAccidents/'\n",
    "\n",
    "list = os.listdir(data_folder)\n",
    "print(list)\n",
    "\n",
    "# video_path = data_folder + \"RoadAccidents012_x264.mp4\"\n",
    "# video_num = 12\n",
    "# extract_frames(target_folder, video_path, video_num)\n"
   ]
  },
  {
   "cell_type": "markdown",
   "id": "b90adfe0",
   "metadata": {},
   "source": [
    "### Extract frames from videos"
   ]
  },
  {
   "cell_type": "code",
   "execution_count": 5,
   "id": "693d45eb",
   "metadata": {},
   "outputs": [],
   "source": [
    "video_start_num = 140\n",
    "video_end_num = len(list)"
   ]
  },
  {
   "cell_type": "code",
   "execution_count": 6,
   "id": "e30002f5",
   "metadata": {},
   "outputs": [
    {
     "name": "stdout",
     "output_type": "stream",
     "text": [
      "extracted  RoadAccidents142_x264.mp4 frames\n",
      "extracted  RoadAccidents143_x264.mp4 frames\n",
      "extracted  RoadAccidents144_x264.mp4 frames\n",
      "extracted  RoadAccidents145_x264.mp4 frames\n",
      "extracted  RoadAccidents146_x264.mp4 frames\n",
      "extracted  RoadAccidents149_x264.mp4 frames\n",
      "extracted  RoadAccidents150_x264.mp4 frames\n",
      "extracted  RoadAccidents151_x264.mp4 frames\n"
     ]
    }
   ],
   "source": [
    "for i in range(video_start_num, video_end_num):\n",
    "    video_path = data_folder + list[i]\n",
    "    video_num = int(list[i][list[i].find('s')+1:list[i].find('_')])\n",
    "    extract_frames(target_folder, video_path, video_num)\n",
    "    print('extracted ', list[i], 'frames')"
   ]
  },
  {
   "cell_type": "code",
   "execution_count": null,
   "id": "6ba390f5",
   "metadata": {},
   "outputs": [],
   "source": []
  }
 ],
 "metadata": {
  "kernelspec": {
   "display_name": "Python 3 (ipykernel)",
   "language": "python",
   "name": "python3"
  },
  "language_info": {
   "codemirror_mode": {
    "name": "ipython",
    "version": 3
   },
   "file_extension": ".py",
   "mimetype": "text/x-python",
   "name": "python",
   "nbconvert_exporter": "python",
   "pygments_lexer": "ipython3",
   "version": "3.7.3"
  }
 },
 "nbformat": 4,
 "nbformat_minor": 5
}
